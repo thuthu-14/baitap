{
 "cells": [
  {
   "cell_type": "code",
   "execution_count": 9,
   "id": "9710249d-cb51-470d-9f01-fbed027ded6e",
   "metadata": {},
   "outputs": [
    {
     "name": "stdin",
     "output_type": "stream",
     "text": [
      " 2 3 \n"
     ]
    },
    {
     "name": "stdout",
     "output_type": "stream",
     "text": [
      "da hoan doi 3 2\n"
     ]
    }
   ],
   "source": [
    "#w3A2\n",
    "a,b=map(int, input().split())\n",
    "a = a ^ b\n",
    "b = a ^ b\n",
    "a = a ^ b\n",
    "\n",
    "print('da hoan doi', a,b )\n"
   ]
  },
  {
   "cell_type": "code",
   "execution_count": 3,
   "id": "ac73447c-73ef-47ea-88ec-ef039d70f57c",
   "metadata": {},
   "outputs": [
    {
     "name": "stdin",
     "output_type": "stream",
     "text": [
      " 16\n"
     ]
    },
    {
     "name": "stdout",
     "output_type": "stream",
     "text": [
      "Là lũy thừa của 2\n"
     ]
    }
   ],
   "source": [
    "#w3A3\n",
    "n = int(input())\n",
    "if n > 0 and (n & (n - 1)) == 0:\n",
    "    print(\"Là lũy thừa của 2\")\n",
    "else:\n",
    "    print(\"Không phải lũy thừa của 2\")\n"
   ]
  },
  {
   "cell_type": "code",
   "execution_count": 6,
   "id": "e9b00de3-5d7f-4459-aaee-70d147531888",
   "metadata": {},
   "outputs": [
    {
     "name": "stdin",
     "output_type": "stream",
     "text": [
      " 7 3 \n"
     ]
    },
    {
     "name": "stdout",
     "output_type": "stream",
     "text": [
      "Kết quả: 2.0\n"
     ]
    }
   ],
   "source": [
    "#w3A4\n",
    "m,n=map(float, input().split())\n",
    "\n",
    "print(\"Kết quả:\", m//n )"
   ]
  },
  {
   "cell_type": "code",
   "execution_count": 8,
   "id": "c7d0c540-418a-4aef-b068-c23f610b7bd9",
   "metadata": {},
   "outputs": [
    {
     "name": "stdin",
     "output_type": "stream",
     "text": [
      " 7 3 \n"
     ]
    },
    {
     "name": "stdout",
     "output_type": "stream",
     "text": [
      "3\n"
     ]
    }
   ],
   "source": [
    "#w3A5\n",
    "m,n=map(float, input().split())\n",
    "import math\n",
    "print(math.ceil(m/n))  \n"
   ]
  },
  {
   "cell_type": "code",
   "execution_count": 9,
   "id": "b3b5f663-097b-4b15-8c77-3d61b7b276d6",
   "metadata": {},
   "outputs": [
    {
     "name": "stdin",
     "output_type": "stream",
     "text": [
      " 10\n"
     ]
    },
    {
     "name": "stdout",
     "output_type": "stream",
     "text": [
      " x la so chan\n"
     ]
    }
   ],
   "source": [
    "#W3A6\n",
    "x=int(input())\n",
    "if x%2==0 :\n",
    "    print(' x la so chan')\n",
    "else:\n",
    "    print('x là so le')"
   ]
  },
  {
   "cell_type": "code",
   "execution_count": 10,
   "id": "a70adfbb-cb69-4f96-87ba-94dd357e5fad",
   "metadata": {},
   "outputs": [
    {
     "name": "stdin",
     "output_type": "stream",
     "text": [
      " 2 3\n"
     ]
    },
    {
     "name": "stdout",
     "output_type": "stream",
     "text": [
      "no\n"
     ]
    }
   ],
   "source": [
    "#W3A7\n",
    "a,b=map(int,input().split())\n",
    "if a<0 and b<0 :\n",
    "    print('yes')\n",
    "else:\n",
    "    print('no')"
   ]
  },
  {
   "cell_type": "code",
   "execution_count": 11,
   "id": "5563f10f-0597-4d46-9d5c-9be2b03be3d8",
   "metadata": {},
   "outputs": [
    {
     "name": "stdin",
     "output_type": "stream",
     "text": [
      " thu thuthu\n"
     ]
    },
    {
     "name": "stdout",
     "output_type": "stream",
     "text": [
      "flase\n"
     ]
    }
   ],
   "source": [
    "#W3A8\n",
    "a,b=(input().split())\n",
    "if len(a)>len(b):\n",
    "    print('true')\n",
    "else:\n",
    "    print('flase')\n",
    "    \n",
    "    "
   ]
  },
  {
   "cell_type": "code",
   "execution_count": 12,
   "id": "70edca4a-153a-4259-ade9-3eb230e60734",
   "metadata": {},
   "outputs": [
    {
     "name": "stdin",
     "output_type": "stream",
     "text": [
      " 3 4 5 \n"
     ]
    },
    {
     "name": "stdout",
     "output_type": "stream",
     "text": [
      "yes\n"
     ]
    }
   ],
   "source": [
    "#W3A9\n",
    "line= input()\n",
    "a,b,c=map(float, line.split())\n",
    "if (a+b)>c and (b+c)>a  and(a+c)>b :\n",
    "    print( 'yes' )\n",
    "else : \n",
    "    print('no')"
   ]
  },
  {
   "cell_type": "code",
   "execution_count": 13,
   "id": "5deae646-a542-46f8-b9e3-aa3eb3ddb753",
   "metadata": {},
   "outputs": [
    {
     "name": "stdin",
     "output_type": "stream",
     "text": [
      " 1 2 3 4 \n"
     ]
    },
    {
     "name": "stdout",
     "output_type": "stream",
     "text": [
      " so lơn nhat la 4\n"
     ]
    }
   ],
   "source": [
    "#W3A10\n",
    "a,b,c,d= map(float, input(). split())\n",
    "print(f\" so lơn nhat la {max(a,b,c,d):.0f}\")"
   ]
  },
  {
   "cell_type": "code",
   "execution_count": 37,
   "id": "bab3d3ec-f760-468b-a19b-5670972362fc",
   "metadata": {},
   "outputs": [
    {
     "name": "stdin",
     "output_type": "stream",
     "text": [
      " 1 2 3 \n"
     ]
    },
    {
     "name": "stdout",
     "output_type": "stream",
     "text": [
      " khong phai la tam giac\n"
     ]
    }
   ],
   "source": [
    "#W3A11\n",
    "import math \n",
    "a,b,c=map(float,(input()).split())\n",
    "if (a+b)>c and (b+c)>a  and(a+c)>b :\n",
    "     if a== math.sqrt(b**2+c**2) or  b==math.sqrt(a**2+c**2) or  c== math.sqrt(b**2+a**2):\n",
    "           print(' la hình tam giac vuong')\n",
    "     elif a==b==c :\n",
    "           print(' la hinh tam giac đều')\n",
    "     elif b==c or a==b or a==c :\n",
    "           print('la hinh tam giac cân')\n",
    "else :\n",
    "    print(' khong phai la tam giac')\n",
    "    \n"
   ]
  },
  {
   "cell_type": "code",
   "execution_count": 38,
   "id": "f79faaaf-7075-4c55-9713-945eef75454d",
   "metadata": {},
   "outputs": [
    {
     "name": "stdin",
     "output_type": "stream",
     "text": [
      " 2016\n"
     ]
    },
    {
     "name": "stdout",
     "output_type": "stream",
     "text": [
      " nam nay la nam nhuan\n"
     ]
    }
   ],
   "source": [
    "#W3A12\n",
    "nam=int(input())\n",
    "if nam%4==0 and nam!=0 or  nam%100==0 and nam!=0 :\n",
    "    print(' nam nay la nam nhuan')\n",
    "else:\n",
    "    print('nam nay khong phai nam nhuan')\n",
    "    "
   ]
  },
  {
   "cell_type": "code",
   "execution_count": 3,
   "id": "a6dee2fe-0075-4667-8db3-0b1fb3071124",
   "metadata": {},
   "outputs": [
    {
     "name": "stdin",
     "output_type": "stream",
     "text": [
      " 3 6 \n"
     ]
    },
    {
     "name": "stdout",
     "output_type": "stream",
     "text": [
      "-2.0\n"
     ]
    }
   ],
   "source": [
    "#W3A14\n",
    "a,b=map(float,input().split())\n",
    "if a!= 0:\n",
    "    x=-b/a\n",
    "    print(x)\n",
    "else :\n",
    "    a==0 \n",
    "    print('phuong trinh vo nghiem')\n",
    "\n",
    "\n"
   ]
  },
  {
   "cell_type": "code",
   "execution_count": null,
   "id": "007f84ac-947d-4663-b196-5bd935e8cfd3",
   "metadata": {},
   "outputs": [],
   "source": [
    "#W3A15\n",
    "diem=float(input())\n",
    "if diem >=8 :\n",
    "    print('gioi')\n",
    "elif diem<8 and diem >=6.5 :\n",
    "    print('kha')\n",
    "elif diem<6.5 and diem>=5 :\n",
    "    print('trung binh')\n",
    "elif diem<5:\n",
    "    print('yeu')"
   ]
  },
  {
   "cell_type": "code",
   "execution_count": 5,
   "id": "67d1861d-c324-4bb4-b912-0da9d7e049df",
   "metadata": {},
   "outputs": [
    {
     "name": "stdin",
     "output_type": "stream",
     "text": [
      " 1 2 3 \n"
     ]
    },
    {
     "name": "stdout",
     "output_type": "stream",
     "text": [
      "Vo nghiem\n"
     ]
    }
   ],
   "source": [
    "#W3A16\n"
   ]
  },
  {
   "cell_type": "code",
   "execution_count": 6,
   "id": "d4316fea-516c-4568-a100-586ed376358a",
   "metadata": {},
   "outputs": [
    {
     "name": "stdin",
     "output_type": "stream",
     "text": [
      " 2 4 8 16\n"
     ]
    },
    {
     "name": "stdout",
     "output_type": "stream",
     "text": [
      "la cap so nhan\n"
     ]
    }
   ],
   "source": [
    "#W3A17\n",
    "a,b,c,d=map(int, input().split())\n",
    "x=b/a\n",
    "if a*x==b and b*x==c and c*x==d :\n",
    "     print(\"la cap so nhan\")\n",
    "else:\n",
    "     print(\"khong la cap so nhan\")"
   ]
  }
 ],
 "metadata": {
  "kernelspec": {
   "display_name": "Python 3 (ipykernel)",
   "language": "python",
   "name": "python3"
  },
  "language_info": {
   "codemirror_mode": {
    "name": "ipython",
    "version": 3
   },
   "file_extension": ".py",
   "mimetype": "text/x-python",
   "name": "python",
   "nbconvert_exporter": "python",
   "pygments_lexer": "ipython3",
   "version": "3.13.5"
  }
 },
 "nbformat": 4,
 "nbformat_minor": 5
}
