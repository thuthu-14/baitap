{
 "cells": [
  {
   "cell_type": "code",
   "execution_count": 118,
   "id": "e298a512-0d20-4a8b-8f1c-af6c97c4169e",
   "metadata": {},
   "outputs": [
    {
     "name": "stdout",
     "output_type": "stream",
     "text": [
      "hello world\n"
     ]
    }
   ],
   "source": [
    "#W2A1\n",
    "print('hello world')"
   ]
  },
  {
   "cell_type": "code",
   "execution_count": 4,
   "id": "27bf424c-547e-402b-9f40-0fffe3dc4480",
   "metadata": {},
   "outputs": [
    {
     "name": "stdin",
     "output_type": "stream",
     "text": [
      " Nguyen Thi Thu\n"
     ]
    },
    {
     "name": "stdout",
     "output_type": "stream",
     "text": [
      "Nguyen Thi Thu chao mung den is5\n"
     ]
    }
   ],
   "source": [
    "#W2A2\n",
    "name= input()\n",
    "print(name ,'chao mung den is5')\n"
   ]
  },
  {
   "cell_type": "code",
   "execution_count": 94,
   "id": "b3109d55-6cb7-439c-8b6e-fefeb39e9be2",
   "metadata": {},
   "outputs": [
    {
     "name": "stdin",
     "output_type": "stream",
     "text": [
      " 10 3\n"
     ]
    },
    {
     "name": "stdout",
     "output_type": "stream",
     "text": [
      "10 + 3 = 13\n",
      "10 - 3 = 7\n",
      "10 * 3 = 30\n",
      "10 /3 = 3.33\n"
     ]
    }
   ],
   "source": [
    "#w2A3\n",
    "line= input()\n",
    "a, b = map(int, line.split())\n",
    "print(f'{a} + {b} = {a+b}')\n",
    "print(f'{a} - {b} = {a-b}')\n",
    "print(f'{a} * {b} = {a*b}')\n",
    "print( f'{a} /{b} = {a/b:.2f}')\n",
    "      "
   ]
  },
  {
   "cell_type": "code",
   "execution_count": 27,
   "id": "3ff7dce5-6af2-4981-b79b-0329b2ad48e5",
   "metadata": {},
   "outputs": [
    {
     "name": "stdin",
     "output_type": "stream",
     "text": [
      " 9 9 9 9 9 9\n"
     ]
    },
    {
     "name": "stdout",
     "output_type": "stream",
     "text": [
      "9.0\n"
     ]
    }
   ],
   "source": [
    "#W2A4\n",
    "line= input()\n",
    "a1, b1, c1, a2, b2, a3 = map(float, line.split())\n",
    "TB= ((a1+b1+c1)+(a2+b2)*2+a3*3)/10\n",
    "print(f'{TB:.1f}')\n",
    "\n"
   ]
  },
  {
   "cell_type": "code",
   "execution_count": 1,
   "id": "6935f0e6-4687-46e8-b0c5-0c32a9d65386",
   "metadata": {},
   "outputs": [
    {
     "name": "stdin",
     "output_type": "stream",
     "text": [
      " 5 6\n"
     ]
    },
    {
     "name": "stdout",
     "output_type": "stream",
     "text": [
      "15625\n"
     ]
    }
   ],
   "source": [
    "#W2A5\n",
    "line= input()\n",
    "a, b =map(int, line.split())\n",
    "print (a**b)\n"
   ]
  },
  {
   "cell_type": "code",
   "execution_count": 41,
   "id": "4d1a7cfa-f14a-4698-a53e-8171bc53f76c",
   "metadata": {},
   "outputs": [
    {
     "name": "stdout",
     "output_type": "stream",
     "text": [
      "65\n"
     ]
    }
   ],
   "source": [
    "#W2A6\n",
    "\n",
    "\n"
   ]
  },
  {
   "cell_type": "code",
   "execution_count": 43,
   "id": "09e9d057-98e0-4afa-91cc-00e2e94871e7",
   "metadata": {},
   "outputs": [
    {
     "name": "stdout",
     "output_type": "stream",
     "text": [
      "845 512\n"
     ]
    }
   ],
   "source": [
    "#W2A7\n",
    "A=((13**2)* + 5)\n",
    "B=13**2*3+5\n",
    "print(A,B)\n"
   ]
  },
  {
   "cell_type": "code",
   "execution_count": 46,
   "id": "65992a1c-6104-47d0-a299-70d6df47757b",
   "metadata": {},
   "outputs": [
    {
     "name": "stdin",
     "output_type": "stream",
     "text": [
      " 100\n"
     ]
    },
    {
     "name": "stdout",
     "output_type": "stream",
     "text": [
      "212.0\n"
     ]
    }
   ],
   "source": [
    "#W2A8\n",
    "c= float(input())\n",
    "F= 9/5*c + 32\n",
    "print(F)\n"
   ]
  },
  {
   "cell_type": "code",
   "execution_count": null,
   "id": "6a341179-6782-4db7-8b7d-bd5ef755a47c",
   "metadata": {},
   "outputs": [],
   "source": [
    "#W2A9\n"
   ]
  },
  {
   "cell_type": "code",
   "execution_count": 64,
   "id": "cdfce491-4594-4082-be13-38d65d16978a",
   "metadata": {},
   "outputs": [
    {
     "name": "stdin",
     "output_type": "stream",
     "text": [
      " Bob Alice Helen\n"
     ]
    },
    {
     "name": "stdout",
     "output_type": "stream",
     "text": [
      "Hi Helen , Alice and Bob\n"
     ]
    }
   ],
   "source": [
    "#W2A10\n",
    "name1, name2, name3 =map(str,input().split())\n",
    "print('Hi', name3,',', name2,'and', name1  )\n"
   ]
  },
  {
   "cell_type": "code",
   "execution_count": 95,
   "id": "5762b2c4-151d-40ae-8d1a-96fb6f5951bc",
   "metadata": {},
   "outputs": [
    {
     "name": "stdin",
     "output_type": "stream",
     "text": [
      " 0 2\n"
     ]
    },
    {
     "name": "stdout",
     "output_type": "stream",
     "text": [
      "120.0\n"
     ]
    }
   ],
   "source": [
    "#W2A11\n",
    "gio, phut=map(float, input(). split())\n",
    "print( gio*3600 + phut*60)"
   ]
  },
  {
   "cell_type": "code",
   "execution_count": 87,
   "id": "6ba4a84f-1ffa-43a1-b087-9c636d9ca5cd",
   "metadata": {},
   "outputs": [
    {
     "name": "stdin",
     "output_type": "stream",
     "text": [
      " 1\n"
     ]
    },
    {
     "name": "stdout",
     "output_type": "stream",
     "text": [
      "6\n"
     ]
    }
   ],
   "source": [
    "#W2A12\n",
    "n = int(input())\n",
    "print(n*6)"
   ]
  },
  {
   "cell_type": "code",
   "execution_count": 114,
   "id": "64b01f8c-01dc-4ed7-829a-32d59752ed30",
   "metadata": {},
   "outputs": [
    {
     "name": "stdin",
     "output_type": "stream",
     "text": [
      " 1 2 \n"
     ]
    },
    {
     "name": "stdout",
     "output_type": "stream",
     "text": [
      "2\n"
     ]
    }
   ],
   "source": [
    "#W2A13\n",
    "a,b=map(int, input().split())\n",
    "if a<0 and b<0 :\n",
    "    print('loi')\n",
    "else:\n",
    "    print(f'{a*b:.0f}')\n"
   ]
  },
  {
   "cell_type": "code",
   "execution_count": 115,
   "id": "eb9df8eb-491a-41c6-8c92-9fed2e72b4dc",
   "metadata": {},
   "outputs": [
    {
     "name": "stdin",
     "output_type": "stream",
     "text": [
      " 3 4\n"
     ]
    },
    {
     "name": "stdout",
     "output_type": "stream",
     "text": [
      "4 3\n"
     ]
    }
   ],
   "source": [
    "#W2A14\n",
    "a,b=map(int, input().split())\n",
    "a,b=b,a\n",
    "print(a,b)\n"
   ]
  },
  {
   "cell_type": "code",
   "execution_count": null,
   "id": "3da2ef7b-06b3-4b12-a27a-625f61e17e12",
   "metadata": {},
   "outputs": [],
   "source": [
    "#WA215\n"
   ]
  },
  {
   "cell_type": "code",
   "execution_count": 116,
   "id": "dcd28b52-f102-4fc3-ae06-2b7021423e33",
   "metadata": {},
   "outputs": [
    {
     "name": "stdout",
     "output_type": "stream",
     "text": [
      "Spring\n",
      "Summer\n",
      "Autumn\n",
      "Winter\n",
      "\n"
     ]
    }
   ],
   "source": [
    "#W2A16\n",
    "print('Spring\\nSummer\\nAutumn\\nWinter\\n')\n"
   ]
  },
  {
   "cell_type": "code",
   "execution_count": 122,
   "id": "2da22b31-1855-4596-9177-8a436842ad5c",
   "metadata": {},
   "outputs": [
    {
     "name": "stdout",
     "output_type": "stream",
     "text": [
      "\n",
      "  *\n",
      " ***\n",
      "*****\n"
     ]
    }
   ],
   "source": [
    "#W2A17\n",
    "print('''\n",
    "  *\n",
    " ***\n",
    "*****''')\n"
   ]
  },
  {
   "cell_type": "code",
   "execution_count": 123,
   "id": "5e5d8045-0d18-4124-8808-4cddc73625c2",
   "metadata": {},
   "outputs": [
    {
     "name": "stdout",
     "output_type": "stream",
     "text": [
      "\n",
      "*** **\n",
      " *  * *\n",
      " *  *  *\n",
      " *  **    \n"
     ]
    }
   ],
   "source": [
    "#W2A18\n",
    "print('''\n",
    "*** **\n",
    " *  * *\n",
    " *  *  *\n",
    " *  **    ''')"
   ]
  },
  {
   "cell_type": "code",
   "execution_count": 126,
   "id": "001fcab5-aeb0-44cc-927a-077fd4bbe1c8",
   "metadata": {},
   "outputs": [
    {
     "name": "stdout",
     "output_type": "stream",
     "text": [
      "Monday\n",
      "Tuesday\n",
      "Wednesday\n",
      "Thursday\n",
      "Friday\n",
      "Saturday\n",
      "Sunday\n"
     ]
    }
   ],
   "source": [
    "#W2A19\n",
    "print(\"Monday\", \"Tuesday\", \"Wednesday\", \"Thursday\", \"Friday\", \"Saturday\", \"Sunday\", sep='\\n')"
   ]
  },
  {
   "cell_type": "code",
   "execution_count": 128,
   "id": "0480804f-4c03-4a36-87f3-ba4e1e93d221",
   "metadata": {},
   "outputs": [
    {
     "name": "stdout",
     "output_type": "stream",
     "text": [
      "January\n",
      "February\n",
      "March\n",
      "April\n",
      "May\n",
      "June\n",
      "July\n",
      "August\n",
      "September\n",
      "October\n",
      "November\n",
      "December\n"
     ]
    }
   ],
   "source": [
    "#W2A20\n",
    "print( \"January\", \"February\", \"March\", \"April\", \"May\", \"June\",\n",
    "    \"July\", \"August\", \"September\", \"October\", \"November\", \"December\", sep='\\n')"
   ]
  },
  {
   "cell_type": "code",
   "execution_count": 130,
   "id": "df39bf60-4bd0-414c-996d-6caa0d182769",
   "metadata": {},
   "outputs": [
    {
     "name": "stdout",
     "output_type": "stream",
     "text": [
      "Hello, world\n",
      "Hello, world\n",
      "Hello, world\n",
      "Hello, world\n",
      "Hello, world\n",
      "Hello, world\n",
      "Hello, world\n",
      "Hello, world\n",
      "Hello, world\n",
      "Hello, world\n",
      "\n"
     ]
    }
   ],
   "source": [
    "#W2A21\n",
    "print(\"Hello, world\\n\" * 10)"
   ]
  },
  {
   "cell_type": "code",
   "execution_count": null,
   "id": "4ac07538-ddac-46b0-b94a-833efd91d563",
   "metadata": {},
   "outputs": [],
   "source": [
    "###\n",
    "print("
   ]
  }
 ],
 "metadata": {
  "kernelspec": {
   "display_name": "Python 3 (ipykernel)",
   "language": "python",
   "name": "python3"
  },
  "language_info": {
   "codemirror_mode": {
    "name": "ipython",
    "version": 3
   },
   "file_extension": ".py",
   "mimetype": "text/x-python",
   "name": "python",
   "nbconvert_exporter": "python",
   "pygments_lexer": "ipython3",
   "version": "3.13.5"
  }
 },
 "nbformat": 4,
 "nbformat_minor": 5
}
