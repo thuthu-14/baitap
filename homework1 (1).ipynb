{
 "cells": [
  {
   "cell_type": "code",
   "execution_count": 4,
   "id": "1e9ba2f8-bd71-4665-8ba1-057190cc1325",
   "metadata": {},
   "outputs": [
    {
     "name": "stdin",
     "output_type": "stream",
     "text": [
      " 3\n"
     ]
    },
    {
     "name": "stdout",
     "output_type": "stream",
     "text": [
      "6\n"
     ]
    }
   ],
   "source": [
    "#1\n",
    "n= int(input())\n",
    "print( 2*n )"
   ]
  },
  {
   "cell_type": "code",
   "execution_count": 1,
   "id": "aa947368-e8ba-4497-888a-f7e4708dab64",
   "metadata": {},
   "outputs": [
    {
     "name": "stdin",
     "output_type": "stream",
     "text": [
      " 5 3 \n"
     ]
    },
    {
     "name": "stdout",
     "output_type": "stream",
     "text": [
      "7.93\n"
     ]
    }
   ],
   "source": [
    "#2 \n",
    "line= input()\n",
    "a, b =map(int, line.split())\n",
    "print(f'{a*b-((b/2)**2)*3.14:.2f}')\n",
    "\n"
   ]
  },
  {
   "cell_type": "code",
   "execution_count": 23,
   "id": "0b6e063f-319b-4a84-a204-56f799cf4f6a",
   "metadata": {},
   "outputs": [
    {
     "name": "stdin",
     "output_type": "stream",
     "text": [
      " c\n"
     ]
    },
    {
     "name": "stdout",
     "output_type": "stream",
     "text": [
      "C\n"
     ]
    }
   ],
   "source": [
    "#3\n",
    "def doi(c):\n",
    "    if 'A' <= c <= 'Z':\n",
    "        return chr(ord(c) + 32)\n",
    "    elif 'a' <= c <= 'z':\n",
    "        return chr(ord(c) - 32)\n",
    "    else:\n",
    "        return c\n",
    "        \n",
    "c=input()\n",
    "\n",
    "print(doi(c))  \n",
    "  \n",
    "\n"
   ]
  },
  {
   "cell_type": "code",
   "execution_count": 30,
   "id": "b84e7829-7e45-43c1-9cd7-202b32efd514",
   "metadata": {},
   "outputs": [
    {
     "name": "stdin",
     "output_type": "stream",
     "text": [
      " c\n"
     ]
    },
    {
     "name": "stdout",
     "output_type": "stream",
     "text": [
      "Đây là kí tự aphalbet\n"
     ]
    }
   ],
   "source": [
    "#4\n",
    "c = input()\n",
    "if c.isalpha():      # kiểm tra có phải chữ cái\n",
    "    print(\"Đây là kí tự aphalbet\")\n",
    "else :\n",
    "    c.isdigit()     # kiểm tra có phải số\n",
    "    print(\"Đây không phải là kí tự aphalbet\")\n",
    "\n"
   ]
  },
  {
   "cell_type": "code",
   "execution_count": 10,
   "id": "82fd2d1f-297b-40b0-8c4b-59a445b5892e",
   "metadata": {},
   "outputs": [
    {
     "name": "stdin",
     "output_type": "stream",
     "text": [
      " C\n"
     ]
    },
    {
     "name": "stdout",
     "output_type": "stream",
     "text": [
      "trước C là B\n"
     ]
    }
   ],
   "source": [
    "#5\n",
    "s = input()\n",
    "\n",
    "if  'A' <= s  <= 'Z':\n",
    "    if s == 'A':\n",
    "        print(\"trường hợp đặc biệt\") \n",
    "    else:\n",
    "       t = chr(ord(s) - 1)\n",
    "       print('trước',s, 'là', t )\n"
   ]
  },
  {
   "cell_type": "code",
   "execution_count": 6,
   "id": "59077ebe-5ad6-410d-b108-d88c281d844f",
   "metadata": {},
   "outputs": [
    {
     "name": "stdin",
     "output_type": "stream",
     "text": [
      " 3 4 5\n"
     ]
    },
    {
     "name": "stdout",
     "output_type": "stream",
     "text": [
      "6.0\n"
     ]
    }
   ],
   "source": [
    "#6\n",
    "line= input()\n",
    "a,b,c=map(float, line.split())\n",
    "if (a+b)>c and (b+c)>a  and(a+c)>b :\n",
    "    p= (a+b+c)/2 \n",
    "    import math \n",
    "    print( math.sqrt(p*(p-a)*(p-b)*(p-c)))\n",
    "else : \n",
    "    print('không phải 3 cạnh của tam giác')"
   ]
  },
  {
   "cell_type": "code",
   "execution_count": 10,
   "id": "1bb16a8f-fed6-4e15-9772-5133f9968318",
   "metadata": {},
   "outputs": [
    {
     "name": "stdin",
     "output_type": "stream",
     "text": [
      " nguyenthithu\n"
     ]
    },
    {
     "name": "stdout",
     "output_type": "stream",
     "text": [
      "e i\n"
     ]
    }
   ],
   "source": [
    "#7\n",
    "s=input()\n",
    "print(s[4], s[8])"
   ]
  },
  {
   "cell_type": "code",
   "execution_count": 26,
   "id": "b31a8690-13d7-4a43-b184-05498db00513",
   "metadata": {},
   "outputs": [
    {
     "name": "stdin",
     "output_type": "stream",
     "text": [
      "Họ tên:  thuthu\n",
      "Số điện (kWh):  123\n"
     ]
    },
    {
     "name": "stdout",
     "output_type": "stream",
     "text": [
      "Tổng tiền điện: 3618127 VND\n"
     ]
    }
   ],
   "source": [
    "#8\n",
    "\n",
    "ho_ten = input(\"Họ tên: \")\n",
    "kwh = int(input(\"Số điện (kWh): \"))\n",
    "bac = [(50,1678),(100,1734),(200,2014),(300,2536),(400,2834),(float('inf'),2927)]\n",
    "tien = 0\n",
    "p = 0\n",
    "for max_kwh, gia in bac:\n",
    "    if kwh > p:\n",
    "        su_dung = kwh - p if kwh < max_kwh else max_kwh - p\n",
    "        tien += su_dung * gia\n",
    "    p = max_kwh\n",
    "tienvat = tien * 1.08  \n",
    "print(f\"Tổng tiền điện: {int(tien_vat)} VND\")\n"
   ]
  },
  {
   "cell_type": "code",
   "execution_count": 15,
   "id": "8041313d-eafd-4123-9505-1c693b4438e3",
   "metadata": {},
   "outputs": [
    {
     "name": "stdin",
     "output_type": "stream",
     "text": [
      " 3\n"
     ]
    },
    {
     "name": "stdout",
     "output_type": "stream",
     "text": [
      "n là số lẻ\n"
     ]
    }
   ],
   "source": [
    "#môtsobaitapkhac\n",
    "#1\n",
    "n=int(input())\n",
    "if n % 2==0 :\n",
    "    print('n la so chan')\n",
    "else:\n",
    "    print('n là số lẻ')\n",
    "          \n"
   ]
  },
  {
   "cell_type": "code",
   "execution_count": 21,
   "id": "b72721d5-9bef-4ad0-b1ce-fe605b30320a",
   "metadata": {},
   "outputs": [
    {
     "name": "stdin",
     "output_type": "stream",
     "text": [
      " 15\n"
     ]
    },
    {
     "name": "stdout",
     "output_type": "stream",
     "text": [
      " true \n"
     ]
    }
   ],
   "source": [
    "#2\n",
    "n =( input())\n",
    "if n[-1]=='5' :\n",
    "    print(' true ')\n",
    "else:\n",
    "    print('false')\n",
    "    "
   ]
  },
  {
   "cell_type": "code",
   "execution_count": 23,
   "id": "3dd0464b-058c-44a4-bdd0-e40b71167918",
   "metadata": {},
   "outputs": [
    {
     "name": "stdin",
     "output_type": "stream",
     "text": [
      " 16\n"
     ]
    },
    {
     "name": "stdout",
     "output_type": "stream",
     "text": [
      "flase\n"
     ]
    }
   ],
   "source": [
    "#3\n",
    "n =int( input())\n",
    "if n % 5== 0 and n % 3 == 0 :\n",
    "    print(' true')\n",
    "else:\n",
    "    print('flase')\n",
    "    \n"
   ]
  },
  {
   "cell_type": "code",
   "execution_count": 25,
   "id": "2c27fdd1-2e45-4a1e-9a00-4fef33730e96",
   "metadata": {},
   "outputs": [
    {
     "name": "stdin",
     "output_type": "stream",
     "text": [
      " 2007\n"
     ]
    },
    {
     "name": "stdout",
     "output_type": "stream",
     "text": [
      " du tuoi di bau cu\n"
     ]
    }
   ],
   "source": [
    "#4\n",
    "nam= int(input())\n",
    "tuoi= 2025-nam\n",
    "if tuoi >= 18:\n",
    "    print(' du tuoi di bau cu')\n",
    "else: (' khong du tuoi')"
   ]
  },
  {
   "cell_type": "code",
   "execution_count": 28,
   "id": "8ca0eee9-2563-40c1-a696-7c9f43edf6d7",
   "metadata": {},
   "outputs": [
    {
     "name": "stdin",
     "output_type": "stream",
     "text": [
      " 2 2 \n"
     ]
    },
    {
     "name": "stdout",
     "output_type": "stream",
     "text": [
      " hai so bang nhau\n"
     ]
    }
   ],
   "source": [
    "#5\n",
    "line= input()\n",
    "n1,n2= map(float, line.split())\n",
    "if n1>n2 :\n",
    "    print( n1 )\n",
    "elif n1<n2 :\n",
    "    print(n2)\n",
    "else:\n",
    "    print(' hai so bang nhau')\n",
    "    "
   ]
  },
  {
   "cell_type": "code",
   "execution_count": 32,
   "id": "3083da6c-4261-4ba1-889b-55c7a60d81be",
   "metadata": {},
   "outputs": [
    {
     "name": "stdin",
     "output_type": "stream",
     "text": [
      " t\n"
     ]
    },
    {
     "name": "stdout",
     "output_type": "stream",
     "text": [
      "day la chu\n"
     ]
    }
   ],
   "source": [
    "#6\n",
    "n= input()\n",
    "if n.isdigit():\n",
    "    print('day la so')\n",
    "elif n.isalpha():\n",
    "    print('day la chu')\n"
   ]
  },
  {
   "cell_type": "code",
   "execution_count": 34,
   "id": "fc390dd4-e411-4a7f-bbbf-6963f1ac7d28",
   "metadata": {},
   "outputs": [
    {
     "name": "stdin",
     "output_type": "stream",
     "text": [
      " 9.5\n"
     ]
    },
    {
     "name": "stdout",
     "output_type": "stream",
     "text": [
      "gioi\n"
     ]
    }
   ],
   "source": [
    "#7\n",
    "diem=float(input())\n",
    "if diem >=8 :\n",
    "    print('gioi')\n",
    "elif diem<8 and diem >=6.5 :\n",
    "    print('kha')\n",
    "elif diem<6.5 and diem>=5 :\n",
    "    print('trung binh')\n",
    "elif diem<5:\n",
    "    print('yeu')"
   ]
  },
  {
   "cell_type": "code",
   "execution_count": 39,
   "id": "fdb3bc98-98c8-4e69-9dbc-7f06cd1f603d",
   "metadata": {},
   "outputs": [
    {
     "name": "stdin",
     "output_type": "stream",
     "text": [
      " 2016\n"
     ]
    },
    {
     "name": "stdout",
     "output_type": "stream",
     "text": [
      " nam nay la nam nhuan\n"
     ]
    }
   ],
   "source": [
    "#8\n",
    "nam=int(input())\n",
    "if nam%4==0 and nam!=0 or  nam%100==0 and nam!=0 :\n",
    "    print(' nam nay la nam nhuan')\n",
    "else:\n",
    "    print('nam nay khong phai nam nhuan')\n",
    "    "
   ]
  },
  {
   "cell_type": "code",
   "execution_count": 41,
   "id": "07c5ea88-c54b-4285-9757-c233e5cb24eb",
   "metadata": {},
   "outputs": [
    {
     "name": "stdin",
     "output_type": "stream",
     "text": [
      "Nhập một số từ 0-9:  3\n"
     ]
    },
    {
     "name": "stdout",
     "output_type": "stream",
     "text": [
      "ba\n"
     ]
    }
   ],
   "source": [
    "#9\n",
    "n = int(input(\"Nhập một số từ 0-9: \"))\n",
    "\n",
    "match n:\n",
    "    case 0:\n",
    "        print(\"không\")\n",
    "    case 1:\n",
    "        print(\"một\")\n",
    "    case 2:\n",
    "        print(\"hai\")\n",
    "    case 3:\n",
    "        print(\"ba\")\n",
    "    case 4:\n",
    "        print(\"bốn\")\n",
    "    case 5:\n",
    "        print(\"năm\")\n",
    "    case 6:\n",
    "        print(\"sáu\")\n",
    "    case 7:\n",
    "        print(\"bảy\")\n",
    "    case 8:\n",
    "        print(\"tám\")\n",
    "    case 9:\n",
    "        print(\"chín\")\n",
    "    case _:\n",
    "        print(\"Số không hợp lệ\")\n"
   ]
  },
  {
   "cell_type": "code",
   "execution_count": 42,
   "id": "6ad5df24-da63-43fc-900b-10c035e4a0c9",
   "metadata": {},
   "outputs": [
    {
     "name": "stdin",
     "output_type": "stream",
     "text": [
      " 3.2\n"
     ]
    },
    {
     "name": "stdout",
     "output_type": "stream",
     "text": [
      "hoc lai\n"
     ]
    }
   ],
   "source": [
    "#10\n",
    "diem=float(input())\n",
    "if diem >=4 :\n",
    "    print('qua mon')\n",
    "else:\n",
    "    print('hoc lai')\n",
    "    "
   ]
  },
  {
   "cell_type": "code",
   "execution_count": 1,
   "id": "ee2dabbc-8265-45b6-a412-9769680a9caa",
   "metadata": {},
   "outputs": [
    {
     "name": "stdin",
     "output_type": "stream",
     "text": [
      "nhap nam sinh 1992\n"
     ]
    },
    {
     "name": "stdout",
     "output_type": "stream",
     "text": [
      "33  du 18 tuoi \n"
     ]
    }
   ],
   "source": [
    "#11\n",
    "\n",
    "n=int(input('nhap nam sinh'))\n",
    "t = 2025-n\n",
    "if t >= 18 :\n",
    "    print( t, ' du 18 tuoi ')\n",
    "else:\n",
    "    print(t, 'chua du 18 tuoi')\n",
    "\n"
   ]
  }
 ],
 "metadata": {
  "kernelspec": {
   "display_name": "Python 3 (ipykernel)",
   "language": "python",
   "name": "python3"
  },
  "language_info": {
   "codemirror_mode": {
    "name": "ipython",
    "version": 3
   },
   "file_extension": ".py",
   "mimetype": "text/x-python",
   "name": "python",
   "nbconvert_exporter": "python",
   "pygments_lexer": "ipython3",
   "version": "3.13.5"
  }
 },
 "nbformat": 4,
 "nbformat_minor": 5
}
