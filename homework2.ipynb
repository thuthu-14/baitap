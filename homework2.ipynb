{
 "cells": [
  {
   "cell_type": "code",
   "execution_count": 2,
   "id": "61277b69-17ae-4371-8cac-30363bf0badd",
   "metadata": {},
   "outputs": [
    {
     "name": "stdin",
     "output_type": "stream",
     "text": [
      " 3 4\n"
     ]
    },
    {
     "name": "stdout",
     "output_type": "stream",
     "text": [
      "12.0\n"
     ]
    }
   ],
   "source": [
    "#bai1\n",
    "a,b=map(float, input().split())\n",
    "print( a*b)\n",
    "\n"
   ]
  },
  {
   "cell_type": "code",
   "execution_count": 5,
   "id": "783a1c74-649f-40e7-9de0-10e55a1cc061",
   "metadata": {},
   "outputs": [
    {
     "name": "stdin",
     "output_type": "stream",
     "text": [
      " 2\n"
     ]
    },
    {
     "name": "stdout",
     "output_type": "stream",
     "text": [
      "dien tich hình tron la  12.56\n",
      "chu vi hinh tron la 12.56\n"
     ]
    }
   ],
   "source": [
    "#bai2\n",
    "r=float(input())\n",
    "print( 'dien tich hình tron la ', 3.14*r**2 )\n",
    "\n",
    "print('chu vi hinh tron la', 2*3.14*r)\n",
    "\n",
    "       \n"
   ]
  },
  {
   "cell_type": "code",
   "execution_count": 34,
   "id": "51081ced-f212-4fb7-8be9-21f8ec782001",
   "metadata": {},
   "outputs": [
    {
     "name": "stdin",
     "output_type": "stream",
     "text": [
      " 3 4 5 \n"
     ]
    },
    {
     "name": "stdout",
     "output_type": "stream",
     "text": [
      " la hình tam giac vuong\n",
      "dien tich tam giac 6.0\n",
      "chu vi tam giac 12.0\n"
     ]
    }
   ],
   "source": [
    "#bai3\n",
    "a,b,c=map(float,(input()).split())\n",
    "import math \n",
    "def ktra (a,b,c):\n",
    "    if a== math.sqrt(b**2+c**2) or  b==math.sqrt(a**2+c**2) or  c== math.sqrt(b**2+a**2):\n",
    "           print(' la hình tam giac vuong')\n",
    "    elif a==b==c :\n",
    "           print(' la hinh tam giac đều')\n",
    "    elif b==c or ab or a==c :\n",
    "           print('la hinh tam giac cân')\n",
    "ktra (a,b,c)\n",
    "                 \n",
    "if (a+b)>c and (b+c)>a  and(a+c)>b :\n",
    "    p= (a+b+c)/2 \n",
    "    import math \n",
    "    print('dien tich tam giac',  math.sqrt(p*(p-a)*(p-b)*(p-c)))\n",
    "    print( 'chu vi tam giac', p*2)\n",
    "else : \n",
    "    print('không phải 3 cạnh của tam giác')\n",
    "\n",
    "\n",
    "    "
   ]
  },
  {
   "cell_type": "code",
   "execution_count": 1,
   "id": "cdf7b088-af13-4730-9b3a-1e7a9ae8100f",
   "metadata": {},
   "outputs": [
    {
     "name": "stdin",
     "output_type": "stream",
     "text": [
      " 3 6 \n"
     ]
    },
    {
     "name": "stdout",
     "output_type": "stream",
     "text": [
      "-2.0\n"
     ]
    }
   ],
   "source": [
    "#bai 4 \n",
    "a,b=map(float,input().split())\n",
    "if a!= 0:\n",
    "    x=-b/a\n",
    "    print(x)\n",
    "else :\n",
    "    a==0 \n",
    "    print('phuong trinh vo nghiem')\n"
   ]
  },
  {
   "cell_type": "code",
   "execution_count": 2,
   "id": "247cfe43-e5b4-4fe0-b03f-8243e963f342",
   "metadata": {},
   "outputs": [
    {
     "name": "stdin",
     "output_type": "stream",
     "text": [
      " 1 2 3 \n"
     ]
    },
    {
     "name": "stdout",
     "output_type": "stream",
     "text": [
      "Vo nghiem\n"
     ]
    }
   ],
   "source": [
    "#bai5\n",
    "a,b,c=map(float, input().split())\n",
    "if a == 0:\n",
    "    print(\"khong phai phuong trinh bac hai\")\n",
    "else:\n",
    "    delta = b**2 - 4*a*c\n",
    "    if delta > 0:\n",
    "        x1 = (-b + math.sqrt(delta)) / (2*a)\n",
    "        x2 = (-b - math.sqrt(delta)) / (2*a)\n",
    "        print(\"2 nghiem phan biet: x1 =\", x1, \", x2 =\", x2)\n",
    "    elif delta == 0:\n",
    "        x = -b / (2*a)\n",
    "        print(\"Nghiệm kép: x =\", x)\n",
    "    else:\n",
    "        print(\"Vo nghiem\")\n"
   ]
  },
  {
   "cell_type": "code",
   "execution_count": 19,
   "id": "71d04fb8-be1b-4f03-9473-d6589401e3eb",
   "metadata": {},
   "outputs": [
    {
     "name": "stdin",
     "output_type": "stream",
     "text": [
      " 1 2 3 4 \n"
     ]
    },
    {
     "name": "stdout",
     "output_type": "stream",
     "text": [
      " so lơn nhat la 4\n"
     ]
    }
   ],
   "source": [
    "#bai6\n",
    "a,b,c,d= map(float, input(). split())\n",
    "print(f\" so lơn nhat la {max(a,b,c,d):.0f}\")"
   ]
  },
  {
   "cell_type": "code",
   "execution_count": 21,
   "id": "d9dbd6db-e49d-4393-b4bd-0df032511907",
   "metadata": {},
   "outputs": [
    {
     "name": "stdin",
     "output_type": "stream",
     "text": [
      " 1 2 3 4\n"
     ]
    },
    {
     "name": "stdout",
     "output_type": "stream",
     "text": [
      " so nho nhat la 1\n"
     ]
    }
   ],
   "source": [
    "#bai7\n",
    "a,b,c,d= map(float, input(). split())\n",
    "print(f\" so nho nhat la {min(a,b,c,d):.0f}\")"
   ]
  },
  {
   "cell_type": "code",
   "execution_count": null,
   "id": "10a77df2-6f03-4013-89ec-ccdb3152fb5c",
   "metadata": {},
   "outputs": [],
   "source": [
    "#bai8\n",
    "a,b,c,m,c,d,n=map(float, input().split())\n",
    "D = a*d - b*c\n",
    "\n",
    "if D != 0: \n",
    "    x = (m*d - b*n) / D\n",
    "    y = (a*n - m*c) / D\n",
    "    print(\"he co nghiem duy nhat\")\n",
    "    print(\"x =\", x)\n",
    "    print(\"y =\", y)\n",
    "else:  \n",
    "    if a*d == b*c and a*n == m*c and b*n == d*m:\n",
    "        print(\"he co vo so nghiem\")\n",
    "    else:\n",
    "        print(\"he vo nghiemm\")\n",
    "        \n"
   ]
  },
  {
   "cell_type": "code",
   "execution_count": 23,
   "id": "3f102e95-3411-4eb0-8f93-2529c788fd59",
   "metadata": {},
   "outputs": [
    {
     "name": "stdin",
     "output_type": "stream",
     "text": [
      " 120\n"
     ]
    },
    {
     "name": "stdout",
     "output_type": "stream",
     "text": [
      "0 giờ 2 phút 0 giây\n"
     ]
    }
   ],
   "source": [
    "#bai9\n",
    "t = int(input())\n",
    "\n",
    "\n",
    "gio = t // 3600              \n",
    "phut = (t % 3600) // 60     \n",
    "giay = t % 60              \n",
    "\n",
    "print(f\"{gio} giờ {phut} phút {giay} giây\")\n"
   ]
  },
  {
   "cell_type": "code",
   "execution_count": 27,
   "id": "c545d82f-01d4-47af-8423-295f9492a809",
   "metadata": {},
   "outputs": [
    {
     "name": "stdin",
     "output_type": "stream",
     "text": [
      "tam duong tron 2 3\n",
      "ban kinh duong tron 4\n",
      " 1 2 \n"
     ]
    },
    {
     "name": "stdout",
     "output_type": "stream",
     "text": [
      " khong thuoc đuong tron\n"
     ]
    }
   ],
   "source": [
    "#bai10\n",
    "a,b=map(float, input('tam duong tron').split())\n",
    "r=float(input('ban kinh duong tron'))\n",
    "x,y=map(float, input().split())\n",
    "if (x-a)**2+(y-b)**2==r**2:\n",
    "    print('diem do thuoc duong tron')\n",
    "else:\n",
    "    print(' khong thuoc đuong tron')\n"
   ]
  },
  {
   "cell_type": "code",
   "execution_count": 33,
   "id": "16fb072b-6d7a-485d-a445-9d6cf0993086",
   "metadata": {},
   "outputs": [
    {
     "name": "stdin",
     "output_type": "stream",
     "text": [
      " 2 3 \n"
     ]
    },
    {
     "name": "stdout",
     "output_type": "stream",
     "text": [
      "8\n"
     ]
    }
   ],
   "source": [
    "#bai11\n",
    "x,y=map(float, input().split())\n",
    "print(f\"{x**y:.0f}\")"
   ]
  }
 ],
 "metadata": {
  "kernelspec": {
   "display_name": "Python 3 (ipykernel)",
   "language": "python",
   "name": "python3"
  },
  "language_info": {
   "codemirror_mode": {
    "name": "ipython",
    "version": 3
   },
   "file_extension": ".py",
   "mimetype": "text/x-python",
   "name": "python",
   "nbconvert_exporter": "python",
   "pygments_lexer": "ipython3",
   "version": "3.13.5"
  }
 },
 "nbformat": 4,
 "nbformat_minor": 5
}
